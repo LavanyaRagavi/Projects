{
 "cells": [
  {
   "cell_type": "markdown",
   "id": "dd112a20-ecd9-4065-bf10-805c35bb4418",
   "metadata": {},
   "source": [
    "Importing Libraries"
   ]
  },
  {
   "cell_type": "code",
   "execution_count": 2,
   "id": "7a225f3e-4675-40bb-8712-7f5456e647e8",
   "metadata": {},
   "outputs": [],
   "source": [
    "# Importing Required Libraries\n",
    "import pandas as pd\n",
    "from sklearn.model_selection import train_test_split\n",
    "from sklearn.ensemble import RandomForestClassifier\n",
    "from sklearn.linear_model import LogisticRegression\n",
    "from sklearn.metrics import classification_report, confusion_matrix, roc_auc_score, roc_curve\n",
    "from imblearn.over_sampling import SMOTE\n",
    "import matplotlib.pyplot as plt"
   ]
  },
  {
   "cell_type": "markdown",
   "id": "a6e398a4-7925-4f8d-805d-e5baba60025c",
   "metadata": {},
   "source": [
    "Dataset Loading"
   ]
  },
  {
   "cell_type": "code",
   "execution_count": 3,
   "id": "70887834-429c-4761-bbe0-781dfd1978c7",
   "metadata": {},
   "outputs": [
    {
     "name": "stdout",
     "output_type": "stream",
     "text": [
      "Timestamp         0\n",
      "Temperature       0\n",
      "Anomaly           0\n",
      "Location       3296\n",
      "dtype: int64\n"
     ]
    }
   ],
   "source": [
    "# Load the dataset\n",
    "df = pd.read_csv(\"synthetic_sensor_data.csv\")  \n",
    "\n",
    "# Step 1: Check missing values in Dataset\n",
    "print(df.isnull().sum())"
   ]
  },
  {
   "cell_type": "markdown",
   "id": "2839fc50-a63a-4045-adce-6cc1e502538f",
   "metadata": {},
   "source": [
    "Data Handling"
   ]
  },
  {
   "cell_type": "code",
   "execution_count": 4,
   "id": "673f54f7-5a40-4007-9bfa-e01b09aa82c5",
   "metadata": {},
   "outputs": [
    {
     "name": "stdout",
     "output_type": "stream",
     "text": [
      "                Timestamp  Temperature  Anomaly Location\n",
      "0     2024-06-01 19:50:28    24.476332        0  SensorB\n",
      "1     2024-06-01 19:50:28    18.253966        0  SensorA\n",
      "2     2024-06-01 19:50:28    14.953520        0  SensorB\n",
      "3     2024-06-01 19:50:28    17.667181        0  SensorA\n",
      "4     2024-06-01 19:50:28    17.079826        0  SensorA\n",
      "...                   ...          ...      ...      ...\n",
      "9995  2024-06-01 19:50:29    26.460733        0  SensorA\n",
      "9996  2024-06-01 19:50:29    22.027875        0  SensorB\n",
      "9997  2024-06-01 19:50:29    17.917821        0  SensorA\n",
      "9998  2024-06-01 19:50:29    23.730639        0  SensorB\n",
      "9999  2024-06-01 19:50:29    25.680470        0  SensorB\n",
      "\n",
      "[10000 rows x 4 columns]\n"
     ]
    }
   ],
   "source": [
    "# Get index of NaN values\n",
    "nan_indices = df[df['Location'].isna()].index\n",
    "\n",
    "# Split indices into two halves\n",
    "half = len(nan_indices) // 2\n",
    "\n",
    "# Fill first half with 'A', second half with 'B'\n",
    "df.loc[nan_indices[:half], 'Location'] = 'SensorA'\n",
    "df.loc[nan_indices[half:], 'Location'] = 'SensorB'\n",
    "\n",
    "print(df)"
   ]
  },
  {
   "cell_type": "code",
   "execution_count": 5,
   "id": "c1d238e9-c9a3-4872-8013-95f0775929fd",
   "metadata": {},
   "outputs": [
    {
     "name": "stdout",
     "output_type": "stream",
     "text": [
      "<class 'pandas.core.frame.DataFrame'>\n",
      "RangeIndex: 10000 entries, 0 to 9999\n",
      "Data columns (total 4 columns):\n",
      " #   Column       Non-Null Count  Dtype  \n",
      "---  ------       --------------  -----  \n",
      " 0   Timestamp    10000 non-null  object \n",
      " 1   Temperature  10000 non-null  float64\n",
      " 2   Anomaly      10000 non-null  int64  \n",
      " 3   Location     10000 non-null  object \n",
      "dtypes: float64(1), int64(1), object(2)\n",
      "memory usage: 312.6+ KB\n"
     ]
    }
   ],
   "source": [
    "# Ensuring of No Null Values present\n",
    "df.info()"
   ]
  },
  {
   "cell_type": "code",
   "execution_count": 6,
   "id": "dbba71cb-e5ed-479e-9827-30db5783ba9c",
   "metadata": {},
   "outputs": [],
   "source": [
    "df.drop('Timestamp', axis=1, inplace=True)  # Since, feature \"Timestamp\" has same kind of Data, We are neglecting it"
   ]
  },
  {
   "cell_type": "code",
   "execution_count": 7,
   "id": "bd926f05-8643-43d9-92ec-f3718028757b",
   "metadata": {},
   "outputs": [],
   "source": [
    "from sklearn.preprocessing import LabelEncoder\n",
    "\n",
    "# Create encoder object\n",
    "le = LabelEncoder()\n",
    "\n",
    "# Apply encoding\n",
    "df['Location_encoded'] = le.fit_transform(df['Location'])"
   ]
  },
  {
   "cell_type": "code",
   "execution_count": 8,
   "id": "1530601b-6699-4d2d-ad19-a9d8dc617268",
   "metadata": {},
   "outputs": [
    {
     "data": {
      "text/html": [
       "<div>\n",
       "<style scoped>\n",
       "    .dataframe tbody tr th:only-of-type {\n",
       "        vertical-align: middle;\n",
       "    }\n",
       "\n",
       "    .dataframe tbody tr th {\n",
       "        vertical-align: top;\n",
       "    }\n",
       "\n",
       "    .dataframe thead th {\n",
       "        text-align: right;\n",
       "    }\n",
       "</style>\n",
       "<table border=\"1\" class=\"dataframe\">\n",
       "  <thead>\n",
       "    <tr style=\"text-align: right;\">\n",
       "      <th></th>\n",
       "      <th>Temperature</th>\n",
       "      <th>Anomaly</th>\n",
       "      <th>Location</th>\n",
       "      <th>Location_encoded</th>\n",
       "    </tr>\n",
       "  </thead>\n",
       "  <tbody>\n",
       "    <tr>\n",
       "      <th>0</th>\n",
       "      <td>24.476332</td>\n",
       "      <td>0</td>\n",
       "      <td>SensorB</td>\n",
       "      <td>1</td>\n",
       "    </tr>\n",
       "    <tr>\n",
       "      <th>1</th>\n",
       "      <td>18.253966</td>\n",
       "      <td>0</td>\n",
       "      <td>SensorA</td>\n",
       "      <td>0</td>\n",
       "    </tr>\n",
       "    <tr>\n",
       "      <th>2</th>\n",
       "      <td>14.953520</td>\n",
       "      <td>0</td>\n",
       "      <td>SensorB</td>\n",
       "      <td>1</td>\n",
       "    </tr>\n",
       "    <tr>\n",
       "      <th>3</th>\n",
       "      <td>17.667181</td>\n",
       "      <td>0</td>\n",
       "      <td>SensorA</td>\n",
       "      <td>0</td>\n",
       "    </tr>\n",
       "    <tr>\n",
       "      <th>4</th>\n",
       "      <td>17.079826</td>\n",
       "      <td>0</td>\n",
       "      <td>SensorA</td>\n",
       "      <td>0</td>\n",
       "    </tr>\n",
       "  </tbody>\n",
       "</table>\n",
       "</div>"
      ],
      "text/plain": [
       "   Temperature  Anomaly Location  Location_encoded\n",
       "0    24.476332        0  SensorB                 1\n",
       "1    18.253966        0  SensorA                 0\n",
       "2    14.953520        0  SensorB                 1\n",
       "3    17.667181        0  SensorA                 0\n",
       "4    17.079826        0  SensorA                 0"
      ]
     },
     "execution_count": 8,
     "metadata": {},
     "output_type": "execute_result"
    }
   ],
   "source": [
    "df.head()"
   ]
  },
  {
   "cell_type": "code",
   "execution_count": 9,
   "id": "31f7a162-8d27-43f5-9748-e28d58ee9e70",
   "metadata": {},
   "outputs": [],
   "source": [
    "# Define X, y and Split Data\n",
    "# X = features, y = target column (\"Anomaly\")\n",
    "X = df[['Temperature', 'Location_encoded']]\n",
    "y = df[\"Anomaly\"]"
   ]
  },
  {
   "cell_type": "code",
   "execution_count": 10,
   "id": "3080b015-f1e3-4321-96e2-e5d03207fccf",
   "metadata": {},
   "outputs": [
    {
     "data": {
      "text/html": [
       "<div>\n",
       "<style scoped>\n",
       "    .dataframe tbody tr th:only-of-type {\n",
       "        vertical-align: middle;\n",
       "    }\n",
       "\n",
       "    .dataframe tbody tr th {\n",
       "        vertical-align: top;\n",
       "    }\n",
       "\n",
       "    .dataframe thead th {\n",
       "        text-align: right;\n",
       "    }\n",
       "</style>\n",
       "<table border=\"1\" class=\"dataframe\">\n",
       "  <thead>\n",
       "    <tr style=\"text-align: right;\">\n",
       "      <th></th>\n",
       "      <th>Temperature</th>\n",
       "      <th>Location_encoded</th>\n",
       "    </tr>\n",
       "  </thead>\n",
       "  <tbody>\n",
       "    <tr>\n",
       "      <th>0</th>\n",
       "      <td>24.476332</td>\n",
       "      <td>1</td>\n",
       "    </tr>\n",
       "    <tr>\n",
       "      <th>1</th>\n",
       "      <td>18.253966</td>\n",
       "      <td>0</td>\n",
       "    </tr>\n",
       "    <tr>\n",
       "      <th>2</th>\n",
       "      <td>14.953520</td>\n",
       "      <td>1</td>\n",
       "    </tr>\n",
       "    <tr>\n",
       "      <th>3</th>\n",
       "      <td>17.667181</td>\n",
       "      <td>0</td>\n",
       "    </tr>\n",
       "    <tr>\n",
       "      <th>4</th>\n",
       "      <td>17.079826</td>\n",
       "      <td>0</td>\n",
       "    </tr>\n",
       "    <tr>\n",
       "      <th>...</th>\n",
       "      <td>...</td>\n",
       "      <td>...</td>\n",
       "    </tr>\n",
       "    <tr>\n",
       "      <th>9995</th>\n",
       "      <td>26.460733</td>\n",
       "      <td>0</td>\n",
       "    </tr>\n",
       "    <tr>\n",
       "      <th>9996</th>\n",
       "      <td>22.027875</td>\n",
       "      <td>1</td>\n",
       "    </tr>\n",
       "    <tr>\n",
       "      <th>9997</th>\n",
       "      <td>17.917821</td>\n",
       "      <td>0</td>\n",
       "    </tr>\n",
       "    <tr>\n",
       "      <th>9998</th>\n",
       "      <td>23.730639</td>\n",
       "      <td>1</td>\n",
       "    </tr>\n",
       "    <tr>\n",
       "      <th>9999</th>\n",
       "      <td>25.680470</td>\n",
       "      <td>1</td>\n",
       "    </tr>\n",
       "  </tbody>\n",
       "</table>\n",
       "<p>10000 rows × 2 columns</p>\n",
       "</div>"
      ],
      "text/plain": [
       "      Temperature  Location_encoded\n",
       "0       24.476332                 1\n",
       "1       18.253966                 0\n",
       "2       14.953520                 1\n",
       "3       17.667181                 0\n",
       "4       17.079826                 0\n",
       "...           ...               ...\n",
       "9995    26.460733                 0\n",
       "9996    22.027875                 1\n",
       "9997    17.917821                 0\n",
       "9998    23.730639                 1\n",
       "9999    25.680470                 1\n",
       "\n",
       "[10000 rows x 2 columns]"
      ]
     },
     "execution_count": 10,
     "metadata": {},
     "output_type": "execute_result"
    }
   ],
   "source": [
    "X"
   ]
  },
  {
   "cell_type": "code",
   "execution_count": 11,
   "id": "df48a9e0-46c8-46ae-8f11-4f764e0664ca",
   "metadata": {},
   "outputs": [
    {
     "data": {
      "text/plain": [
       "0       0\n",
       "1       0\n",
       "2       0\n",
       "3       0\n",
       "4       0\n",
       "       ..\n",
       "9995    0\n",
       "9996    0\n",
       "9997    0\n",
       "9998    0\n",
       "9999    0\n",
       "Name: Anomaly, Length: 10000, dtype: int64"
      ]
     },
     "execution_count": 11,
     "metadata": {},
     "output_type": "execute_result"
    }
   ],
   "source": [
    "y"
   ]
  },
  {
   "cell_type": "markdown",
   "id": "ccc7e610-e439-4c87-b727-3d800c76b3ff",
   "metadata": {},
   "source": [
    "Train-Test-Split"
   ]
  },
  {
   "cell_type": "code",
   "execution_count": 12,
   "id": "c1c66426-426b-4f89-a441-209d225c598b",
   "metadata": {},
   "outputs": [],
   "source": [
    "# Train-Test Split\n",
    "X_train, X_test, y_train, y_test = train_test_split(X, y, test_size=0.2, random_state=47, stratify=y)\n",
    "\n",
    "# Apply SMOTE only on training data\n",
    "sm = SMOTE(random_state=47)\n",
    "X_train_smote, y_train_smote = sm.fit_resample(X_train, y_train)"
   ]
  },
  {
   "cell_type": "markdown",
   "id": "96fa57ce-6f89-4af4-8e6d-7fa6d4e6af13",
   "metadata": {},
   "source": [
    "Model Building- on Training Dataset"
   ]
  },
  {
   "cell_type": "code",
   "execution_count": 13,
   "id": "44829182-3baa-4279-8201-558f8b682168",
   "metadata": {},
   "outputs": [
    {
     "name": "stdout",
     "output_type": "stream",
     "text": [
      "Random Forest Results:\n",
      "Accuracy: 0.9995\n",
      "Classification Report:\n",
      "               precision    recall  f1-score   support\n",
      "\n",
      "           0       1.00      1.00      1.00      1954\n",
      "           1       0.98      1.00      0.99        46\n",
      "\n",
      "    accuracy                           1.00      2000\n",
      "   macro avg       0.99      1.00      0.99      2000\n",
      "weighted avg       1.00      1.00      1.00      2000\n",
      "\n",
      "Confusion Matrix:\n",
      " [[1953    1]\n",
      " [   0   46]]\n",
      "ROC-AUC Score: 0.9997441146366428\n"
     ]
    }
   ],
   "source": [
    "# Train Random Forest\n",
    "rf_model = RandomForestClassifier(random_state=47)\n",
    "rf_model.fit(X_train_smote, y_train_smote)\n",
    "\n",
    "# Predictions\n",
    "y_pred_rf = rf_model.predict(X_test)\n",
    "\n",
    "# Evaluation\n",
    "print(\"Random Forest Results:\")\n",
    "print(\"Accuracy:\", rf_model.score(X_test, y_test))\n",
    "print(\"Classification Report:\\n\", classification_report(y_test, y_pred_rf))\n",
    "print(\"Confusion Matrix:\\n\", confusion_matrix(y_test, y_pred_rf))\n",
    "print(\"ROC-AUC Score:\", roc_auc_score(y_test, y_pred_rf))\n"
   ]
  },
  {
   "cell_type": "markdown",
   "id": "cfc74990-1771-40a1-8a3d-7a3e69eef216",
   "metadata": {},
   "source": [
    "Evaluation Metrics using Test Data"
   ]
  },
  {
   "cell_type": "code",
   "execution_count": 14,
   "id": "f7f06549-74fc-4898-b28a-b1244cfdad10",
   "metadata": {},
   "outputs": [
    {
     "data": {
      "image/png": "[encoded data removed]",
      "text/plain": [
       "<Figure size 640x480 with 1 Axes>"
      ]
     },
     "metadata": {},
     "output_type": "display_data"
    }
   ],
   "source": [
    "# ROC Curve for Random Forest\n",
    "fpr, tpr, _ = roc_curve(y_test, rf_model.predict_proba(X_test)[:,1])\n",
    "plt.plot(fpr, tpr, label='Random Forest')\n",
    "\n",
    "plt.plot([0, 1], [0, 1], 'k--')\n",
    "plt.xlabel('False Positive Rate')\n",
    "plt.ylabel('True Positive Rate')\n",
    "plt.title('ROC Curve Comparison')\n",
    "plt.legend()\n",
    "plt.grid()\n",
    "plt.show()"
   ]
  },
  {
   "cell_type": "code",
   "execution_count": 15,
   "id": "55908511-d900-4ddd-8042-a1b13c73688c",
   "metadata": {},
   "outputs": [
    {
     "name": "stdout",
     "output_type": "stream",
     "text": [
      "Model saved as 'industrial_anomaly_rf_model.pkl'\n"
     ]
    }
   ],
   "source": [
    "import joblib\n",
    "\n",
    "# Save the trained model\n",
    "joblib.dump(rf_model, \"industrial_anomaly_rf_model.pkl\")\n",
    "print(\"Model saved as 'industrial_anomaly_rf_model.pkl'\")"
   ]
  },
  {
   "cell_type": "code",
   "execution_count": 16,
   "id": "40c3e3c5-338d-4bfe-8f1d-0826c7032e59",
   "metadata": {},
   "outputs": [
    {
     "name": "stdout",
     "output_type": "stream",
     "text": [
      "Predicted values: [0 0 0 0 0]\n"
     ]
    }
   ],
   "source": [
    "# Load the saved model\n",
    "loaded_model = joblib.load(\"industrial_anomaly_rf_model.pkl\")\n",
    "\n",
    "# Example usage\n",
    "sample_prediction = loaded_model.predict(X_test[:5])\n",
    "print(\"Predicted values:\", sample_prediction)"
   ]
  }
 ],
 "metadata": {
  "kernelspec": {
   "display_name": "Python 3 (ipykernel)",
   "language": "python",
   "name": "python3"
  },
  "language_info": {
   "codemirror_mode": {
    "name": "ipython",
    "version": 3
   },
   "file_extension": ".py",
   "mimetype": "text/x-python",
   "name": "python",
   "nbconvert_exporter": "python",
   "pygments_lexer": "ipython3",
   "version": "3.13.3"
  }
 },
 "nbformat": 4,
 "nbformat_minor": 5
}
